{
 "cells": [
  {
   "cell_type": "code",
   "execution_count": 92,
   "metadata": {},
   "outputs": [],
   "source": [
    "class DecisionTreeClassifier1(object):\n",
    "    __class__ = \"DecisionTreeClassifier\"\n",
    "    __doc__ = \"docs string\"\n",
    "    \n",
    "    def __init__(self, max_depth, counter=0):\n",
    "        \n",
    "        self.max_depth = max_depth\n",
    "        self.counter = counter\n",
    "        \n",
    "    def check_purity(self, data):\n",
    "        label_column = data[:,-1] # вытащили массив таргетов\n",
    "        unique_classes = np.unique(label_column) \n",
    "\n",
    "        if len(unique_classes) == 1:\n",
    "            return True\n",
    "        else:\n",
    "            return False    \n",
    "    \n",
    "    \n",
    "    \n",
    "    \n",
    "    \n",
    "    \n",
    "    def decision_tree_algorithm(self, df, min_samples=2):\n",
    "        # data preparations\n",
    "        if self.counter == 0:\n",
    "            global COLUMN_HEADERS\n",
    "            COLUMN_HEADERS = df.columns \n",
    "            data = df.values\n",
    "        else:\n",
    "            data = df           \n",
    "\n",
    "\n",
    "        # base cases\n",
    "        if (self.check_purity(data)) or (len(data) < min_samples) or (self.counter == self.max_depth):\n",
    "            #если дошли до макс. глубины, или сэмплов 1\n",
    "            classification = self.classify_data(data) # возвращает самое часто встреч.\n",
    "            return classification\n",
    "            \n",
    "\n",
    "        # recursive part\n",
    "        else:    \n",
    "            self.counter += 1 \n",
    "\n",
    "            # получаем лучшие сплиты \n",
    "            potential_splits = self.get_potential_splits(data)\n",
    "            split_column, split_value = self.determine_best_split(data, potential_splits)\n",
    "            data_below, data_above = self.split_data(data, split_column, split_value)\n",
    "\n",
    "            # instantiate sub-tree\n",
    "            feature_name = COLUMN_HEADERS[split_column]\n",
    "            # лучшая фича для сплита \n",
    "            question = \"{} <= {}\".format(feature_name, split_value) \n",
    "\n",
    "            sub_tree = {question: []} # словарь\n",
    "\n",
    "            # find answers (recursion)\n",
    "            yes_answer = self.decision_tree_algorithm(data_below,  min_samples) # рекурсивный вызов для левого листа\n",
    "            no_answer = self.decision_tree_algorithm(data_above,  min_samples) # правый\n",
    "\n",
    "            if yes_answer == no_answer:\n",
    "                sub_tree = yes_answer\n",
    "            else:\n",
    "                sub_tree[question].append(yes_answer)\n",
    "                sub_tree[question].append(no_answer)\n",
    "\n",
    "            return sub_tree\n",
    "\n",
    "    \n",
    "        \n",
    "        \n",
    "        \n",
    "    def classify_data(self, data):\n",
    "        label_column = data[:,-1]\n",
    "        unique_classes, counts_unique_classes = np.unique(label_column, return_counts=True) # возвращает уникальные и как часто они встречаются (tuple), складывает в два массива\n",
    "\n",
    "        index = counts_unique_classes.argmax()  \n",
    "        classification = unique_classes[index] # appears most often\n",
    "\n",
    "        return classification # string with target label\n",
    "    \n",
    "    \n",
    "    def get_potential_splits(self, data): # возвращаем словарь. ключи - индексы фичей, объект - массив потенциальных сплитов\n",
    "        potential_splits = {}\n",
    "        n_columns = data.shape[-1]\n",
    "\n",
    "        for column_index in range(n_columns - 1): \n",
    "            potential_splits[column_index]  = [] # закидываем в словарь ключ текущей фичи\n",
    "            values = data[:,column_index] # вытаскиваем данные по  текущей фиче \n",
    "            unique_values = np.unique(values) \n",
    "\n",
    "            for index in range(len(unique_values)): \n",
    "                if index != 0: \n",
    "                    current_value = unique_values[index] \n",
    "                    previous_value = unique_values[index - 1]\n",
    "                    potential_split = (current_value + previous_value)/2 \n",
    "\n",
    "                    potential_splits[column_index].append(potential_split)\n",
    "\n",
    "        return potential_splits\n",
    "    \n",
    "    def split_data(self, data, split_column, split_value):\n",
    "        split_column_values = data[:,split_column] \n",
    "\n",
    "        data_below = data[split_column_values <= split_value]\n",
    "        data_above = data[split_column_values > split_value]\n",
    "\n",
    "        return data_below, data_above \n",
    "    \n",
    "    \n",
    "    def calculate_entropy(self, data): \n",
    "        label_column = data[:,-1] \n",
    "        counts = np.unique(label_column, return_counts=True)[1] \n",
    "        probabilities = counts / counts.sum() \n",
    "        entropy = sum(probabilities * -np.log2(probabilities)) \n",
    "        return entropy\n",
    "    \n",
    "    \n",
    "    def calculate_overall_entropy(self, data_below, data_above): \n",
    "        n = len(data_below) +  len(data_above) \n",
    "        p_data_below = len(data_below) / n\n",
    "        p_data_above = len(data_above) / n\n",
    "\n",
    "        overall_entropy = p_data_below * self.calculate_entropy(data_below)+ p_data_above * self.calculate_entropy(data_above)\n",
    "        return overall_entropy\n",
    "    \n",
    "    \n",
    "    def determine_best_split(self, data, potential_splits):\n",
    "\n",
    "        overall_entropy = 999\n",
    "        for column_index in potential_splits:\n",
    "            for value in potential_splits[column_index]:\n",
    "                data_below, data_above = self.split_data(data, split_column=column_index, split_value=value)\n",
    "                current_overall_entropy = self.calculate_overall_entropy(data_below, data_above)\n",
    "\n",
    "                if current_overall_entropy <= overall_entropy:\n",
    "                    overall_entropy = current_overall_entropy\n",
    "                    best_split_column = column_index\n",
    "                    best_split_value = value\n",
    "        return best_split_column, best_split_value\n",
    "    \n",
    "    \n",
    "    def classify_example(self, example, tree):\n",
    "        question = list(tree.keys())[0] \n",
    "        feature_name, comparison_operator, value =  question.split() # string    'petal <= 0' ==> ['petal', '<=', '0']\n",
    "\n",
    "        if example[feature_name] <= float(value):\n",
    "            # ответ правильный - возвращаем класс\n",
    "            answer = tree[question][0]\n",
    "        else:\n",
    "            # нет - словарь дальше\n",
    "            answer = tree[question][1]\n",
    "\n",
    "        if not isinstance(answer, dict):\n",
    "            return answer\n",
    "\n",
    "        else:\n",
    "            residual_tree = answer\n",
    "            return self.classify_example(example, residual_tree)\n",
    "    \n",
    "    def calculate_accuracy(self, df, tree):\n",
    "\n",
    "        df[\"classification\"] = df.apply(self.classify_example, axis=1, args=(tree,))\n",
    "        df[\"classification_correct\"] = df[\"classification\"] == df[\"label\"]\n",
    "\n",
    "        accuracy = df[\"classification_correct\"].mean()\n",
    "\n",
    "        return accuracy\n",
    "    \n",
    "    \n",
    "    \n",
    "    \n",
    "    "
   ]
  },
  {
   "cell_type": "code",
   "execution_count": 2,
   "metadata": {},
   "outputs": [],
   "source": [
    "import pandas as pd\n",
    "import numpy as np\n",
    "\n",
    "import matplotlib.pyplot as plt\n",
    "import seaborn as sns\n",
    "%matplotlib inline\n",
    "import random \n",
    "from pprint import pprint"
   ]
  },
  {
   "cell_type": "code",
   "execution_count": 3,
   "metadata": {},
   "outputs": [],
   "source": [
    "# preparing data\n",
    "df = pd.read_csv('Iris.csv')"
   ]
  },
  {
   "cell_type": "code",
   "execution_count": 4,
   "metadata": {},
   "outputs": [],
   "source": [
    "df=df.drop('Id', axis=1) "
   ]
  },
  {
   "cell_type": "code",
   "execution_count": 5,
   "metadata": {},
   "outputs": [
    {
     "data": {
      "text/html": [
       "<div>\n",
       "<style scoped>\n",
       "    .dataframe tbody tr th:only-of-type {\n",
       "        vertical-align: middle;\n",
       "    }\n",
       "\n",
       "    .dataframe tbody tr th {\n",
       "        vertical-align: top;\n",
       "    }\n",
       "\n",
       "    .dataframe thead th {\n",
       "        text-align: right;\n",
       "    }\n",
       "</style>\n",
       "<table border=\"1\" class=\"dataframe\">\n",
       "  <thead>\n",
       "    <tr style=\"text-align: right;\">\n",
       "      <th></th>\n",
       "      <th>sepal_length</th>\n",
       "      <th>sepal_width</th>\n",
       "      <th>petal_length</th>\n",
       "      <th>petal_width</th>\n",
       "      <th>species</th>\n",
       "    </tr>\n",
       "  </thead>\n",
       "  <tbody>\n",
       "    <tr>\n",
       "      <th>0</th>\n",
       "      <td>5.1</td>\n",
       "      <td>3.5</td>\n",
       "      <td>1.4</td>\n",
       "      <td>0.2</td>\n",
       "      <td>Iris-setosa</td>\n",
       "    </tr>\n",
       "    <tr>\n",
       "      <th>1</th>\n",
       "      <td>4.9</td>\n",
       "      <td>3.0</td>\n",
       "      <td>1.4</td>\n",
       "      <td>0.2</td>\n",
       "      <td>Iris-setosa</td>\n",
       "    </tr>\n",
       "    <tr>\n",
       "      <th>2</th>\n",
       "      <td>4.7</td>\n",
       "      <td>3.2</td>\n",
       "      <td>1.3</td>\n",
       "      <td>0.2</td>\n",
       "      <td>Iris-setosa</td>\n",
       "    </tr>\n",
       "    <tr>\n",
       "      <th>3</th>\n",
       "      <td>4.6</td>\n",
       "      <td>3.1</td>\n",
       "      <td>1.5</td>\n",
       "      <td>0.2</td>\n",
       "      <td>Iris-setosa</td>\n",
       "    </tr>\n",
       "  </tbody>\n",
       "</table>\n",
       "</div>"
      ],
      "text/plain": [
       "   sepal_length  sepal_width  petal_length  petal_width      species\n",
       "0           5.1          3.5           1.4          0.2  Iris-setosa\n",
       "1           4.9          3.0           1.4          0.2  Iris-setosa\n",
       "2           4.7          3.2           1.3          0.2  Iris-setosa\n",
       "3           4.6          3.1           1.5          0.2  Iris-setosa"
      ]
     },
     "execution_count": 5,
     "metadata": {},
     "output_type": "execute_result"
    }
   ],
   "source": [
    "df.head(4)"
   ]
  },
  {
   "cell_type": "code",
   "execution_count": 6,
   "metadata": {},
   "outputs": [
    {
     "data": {
      "text/html": [
       "<div>\n",
       "<style scoped>\n",
       "    .dataframe tbody tr th:only-of-type {\n",
       "        vertical-align: middle;\n",
       "    }\n",
       "\n",
       "    .dataframe tbody tr th {\n",
       "        vertical-align: top;\n",
       "    }\n",
       "\n",
       "    .dataframe thead th {\n",
       "        text-align: right;\n",
       "    }\n",
       "</style>\n",
       "<table border=\"1\" class=\"dataframe\">\n",
       "  <thead>\n",
       "    <tr style=\"text-align: right;\">\n",
       "      <th></th>\n",
       "      <th>sepal_length</th>\n",
       "      <th>sepal_width</th>\n",
       "      <th>petal_length</th>\n",
       "      <th>petal_width</th>\n",
       "      <th>label</th>\n",
       "    </tr>\n",
       "  </thead>\n",
       "  <tbody>\n",
       "    <tr>\n",
       "      <th>0</th>\n",
       "      <td>5.1</td>\n",
       "      <td>3.5</td>\n",
       "      <td>1.4</td>\n",
       "      <td>0.2</td>\n",
       "      <td>Iris-setosa</td>\n",
       "    </tr>\n",
       "    <tr>\n",
       "      <th>1</th>\n",
       "      <td>4.9</td>\n",
       "      <td>3.0</td>\n",
       "      <td>1.4</td>\n",
       "      <td>0.2</td>\n",
       "      <td>Iris-setosa</td>\n",
       "    </tr>\n",
       "    <tr>\n",
       "      <th>2</th>\n",
       "      <td>4.7</td>\n",
       "      <td>3.2</td>\n",
       "      <td>1.3</td>\n",
       "      <td>0.2</td>\n",
       "      <td>Iris-setosa</td>\n",
       "    </tr>\n",
       "    <tr>\n",
       "      <th>3</th>\n",
       "      <td>4.6</td>\n",
       "      <td>3.1</td>\n",
       "      <td>1.5</td>\n",
       "      <td>0.2</td>\n",
       "      <td>Iris-setosa</td>\n",
       "    </tr>\n",
       "  </tbody>\n",
       "</table>\n",
       "</div>"
      ],
      "text/plain": [
       "   sepal_length  sepal_width  petal_length  petal_width        label\n",
       "0           5.1          3.5           1.4          0.2  Iris-setosa\n",
       "1           4.9          3.0           1.4          0.2  Iris-setosa\n",
       "2           4.7          3.2           1.3          0.2  Iris-setosa\n",
       "3           4.6          3.1           1.5          0.2  Iris-setosa"
      ]
     },
     "execution_count": 6,
     "metadata": {},
     "output_type": "execute_result"
    }
   ],
   "source": [
    "df=df.rename(columns={\"species\": 'label' })\n",
    "df.head(4)"
   ]
  },
  {
   "cell_type": "code",
   "execution_count": 7,
   "metadata": {},
   "outputs": [],
   "source": [
    "def train_test_split(df, test_size):\n",
    "    \n",
    "    if isinstance(test_size, float): \n",
    "        test_size = round(test_size * len(df))\n",
    "\n",
    "    indices = df.index.tolist() \n",
    "    test_indices = random.sample(population=indices, k=test_size) \n",
    "\n",
    "    test_df = df.loc[test_indices] \n",
    "    train_df = df.drop(test_indices) \n",
    "    \n",
    "    return train_df, test_df "
   ]
  },
  {
   "cell_type": "code",
   "execution_count": 134,
   "metadata": {},
   "outputs": [],
   "source": [
    "random.seed(0)\n",
    "train_df, test_df = train_test_split(df, test_size=0.3)"
   ]
  },
  {
   "cell_type": "code",
   "execution_count": 135,
   "metadata": {},
   "outputs": [
    {
     "name": "stdout",
     "output_type": "stream",
     "text": [
      "<class 'pandas.core.frame.DataFrame'>\n",
      "Int64Index: 105 entries, 0 to 149\n",
      "Data columns (total 5 columns):\n",
      " #   Column        Non-Null Count  Dtype  \n",
      "---  ------        --------------  -----  \n",
      " 0   sepal_length  105 non-null    float64\n",
      " 1   sepal_width   105 non-null    float64\n",
      " 2   petal_length  105 non-null    float64\n",
      " 3   petal_width   105 non-null    float64\n",
      " 4   label         105 non-null    object \n",
      "dtypes: float64(4), object(1)\n",
      "memory usage: 4.9+ KB\n"
     ]
    }
   ],
   "source": [
    "train_df.info()"
   ]
  },
  {
   "cell_type": "code",
   "execution_count": 136,
   "metadata": {},
   "outputs": [],
   "source": [
    "model = DecisionTreeClassifier1(max_depth=2)"
   ]
  },
  {
   "cell_type": "code",
   "execution_count": 137,
   "metadata": {},
   "outputs": [],
   "source": [
    "treee = model.decision_tree_algorithm(train_df)"
   ]
  },
  {
   "cell_type": "code",
   "execution_count": 138,
   "metadata": {},
   "outputs": [
    {
     "name": "stdout",
     "output_type": "stream",
     "text": [
      "{'petal_width <= 0.8': ['Iris-setosa',\n",
      "                        {'petal_width <= 1.65': ['Iris-versicolor',\n",
      "                                                 'Iris-virginica']}]}\n"
     ]
    }
   ],
   "source": [
    "pprint(treee)"
   ]
  },
  {
   "cell_type": "code",
   "execution_count": 139,
   "metadata": {},
   "outputs": [
    {
     "name": "stdout",
     "output_type": "stream",
     "text": [
      "sepal_length            5.4\n",
      "sepal_width             3.7\n",
      "petal_length            1.5\n",
      "petal_width             0.2\n",
      "label           Iris-setosa\n",
      "Name: 10, dtype: object\n"
     ]
    }
   ],
   "source": [
    "example = test_df.iloc[2]\n",
    "print(example)"
   ]
  },
  {
   "cell_type": "code",
   "execution_count": 140,
   "metadata": {},
   "outputs": [
    {
     "data": {
      "text/plain": [
       "'Iris-setosa'"
      ]
     },
     "execution_count": 140,
     "metadata": {},
     "output_type": "execute_result"
    }
   ],
   "source": [
    "model.classify_example(example, treee)"
   ]
  },
  {
   "cell_type": "code",
   "execution_count": 141,
   "metadata": {},
   "outputs": [
    {
     "data": {
      "text/plain": [
       "0.9333333333333333"
      ]
     },
     "execution_count": 141,
     "metadata": {},
     "output_type": "execute_result"
    }
   ],
   "source": [
    "model.calculate_accuracy(test_df, treee)"
   ]
  },
  {
   "cell_type": "code",
   "execution_count": 164,
   "metadata": {},
   "outputs": [
    {
     "data": {
      "text/plain": [
       "0.9473684210526315"
      ]
     },
     "execution_count": 164,
     "metadata": {},
     "output_type": "execute_result"
    }
   ],
   "source": [
    "random.seed(0)\n",
    "train_df, test_df = train_test_split(df, test_size=0.25)\n",
    "model = DecisionTreeClassifier1(max_depth=3)\n",
    "treee = model.decision_tree_algorithm(train_df)\n",
    "model.calculate_accuracy(test_df, treee)"
   ]
  },
  {
   "cell_type": "code",
   "execution_count": null,
   "metadata": {},
   "outputs": [],
   "source": []
  },
  {
   "cell_type": "code",
   "execution_count": null,
   "metadata": {},
   "outputs": [],
   "source": []
  },
  {
   "cell_type": "code",
   "execution_count": null,
   "metadata": {},
   "outputs": [],
   "source": []
  },
  {
   "cell_type": "code",
   "execution_count": null,
   "metadata": {},
   "outputs": [],
   "source": []
  }
 ],
 "metadata": {
  "kernelspec": {
   "display_name": "Python 3",
   "language": "python",
   "name": "python3"
  },
  "language_info": {
   "codemirror_mode": {
    "name": "ipython",
    "version": 3
   },
   "file_extension": ".py",
   "mimetype": "text/x-python",
   "name": "python",
   "nbconvert_exporter": "python",
   "pygments_lexer": "ipython3",
   "version": "3.8.3"
  }
 },
 "nbformat": 4,
 "nbformat_minor": 4
}
