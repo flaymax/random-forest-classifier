{
 "cells": [
  {
   "cell_type": "code",
   "execution_count": 1,
   "metadata": {},
   "outputs": [],
   "source": [
    "import pandas as pd\n",
    "import random\n",
    "\n",
    "def train_test_split(df, test_size):\n",
    "    \n",
    "    if isinstance(test_size, float):\n",
    "        test_size = round(test_size * len(df))\n",
    "\n",
    "    indices = df.index.tolist()\n",
    "    test_indices = random.sample(population=indices, k=test_size)\n",
    "\n",
    "    test_df = df.loc[test_indices]\n",
    "    train_df = df.drop(test_indices)\n",
    "    \n",
    "    return train_df, test_df\n",
    "\n",
    "def determine_type_of_feature(df):\n",
    "    \n",
    "    feature_types = []\n",
    "    n_unique_values_treshold = 15\n",
    "    for feature in df.columns:\n",
    "        if feature != \"label\":\n",
    "            unique_values = df[feature].unique()\n",
    "            example_value = unique_values[0]\n",
    "\n",
    "            if (isinstance(example_value, str)) or (len(unique_values) <= n_unique_values_treshold):\n",
    "                feature_types.append(\"categorical\")\n",
    "            else:\n",
    "                feature_types.append(\"continuous\")\n",
    "    \n",
    "    return feature_types\n",
    "\n",
    "def calculate_accuracy(predictions, labels):\n",
    "    predictions_correct = predictions == labels\n",
    "    accuracy = predictions_correct.mean()\n",
    "    \n",
    "    return accuracy"
   ]
  },
  {
   "cell_type": "code",
   "execution_count": 2,
   "metadata": {},
   "outputs": [],
   "source": [
    "import numpy as np\n",
    "%matplotlib inline\n",
    "\n",
    "from pprint import pprint\n",
    "# decision tree also by hand\n",
    "from decision_trees_function import decision_tree_algorithm, decision_tree_predictions\n"
   ]
  },
  {
   "cell_type": "code",
   "execution_count": 3,
   "metadata": {},
   "outputs": [
    {
     "data": {
      "text/html": [
       "<div>\n",
       "<style scoped>\n",
       "    .dataframe tbody tr th:only-of-type {\n",
       "        vertical-align: middle;\n",
       "    }\n",
       "\n",
       "    .dataframe tbody tr th {\n",
       "        vertical-align: top;\n",
       "    }\n",
       "\n",
       "    .dataframe thead th {\n",
       "        text-align: right;\n",
       "    }\n",
       "</style>\n",
       "<table border=\"1\" class=\"dataframe\">\n",
       "  <thead>\n",
       "    <tr style=\"text-align: right;\">\n",
       "      <th></th>\n",
       "      <th>fixed_acidity</th>\n",
       "      <th>volatile_acidity</th>\n",
       "      <th>citric_acid</th>\n",
       "      <th>residual_sugar</th>\n",
       "      <th>chlorides</th>\n",
       "      <th>free_sulfur_dioxide</th>\n",
       "      <th>total_sulfur_dioxide</th>\n",
       "      <th>density</th>\n",
       "      <th>pH</th>\n",
       "      <th>sulphates</th>\n",
       "      <th>alcohol</th>\n",
       "      <th>label</th>\n",
       "    </tr>\n",
       "  </thead>\n",
       "  <tbody>\n",
       "    <tr>\n",
       "      <th>0</th>\n",
       "      <td>7.4</td>\n",
       "      <td>0.70</td>\n",
       "      <td>0.00</td>\n",
       "      <td>1.9</td>\n",
       "      <td>0.076</td>\n",
       "      <td>11.0</td>\n",
       "      <td>34.0</td>\n",
       "      <td>0.9978</td>\n",
       "      <td>3.51</td>\n",
       "      <td>0.56</td>\n",
       "      <td>9.4</td>\n",
       "      <td>5</td>\n",
       "    </tr>\n",
       "    <tr>\n",
       "      <th>1</th>\n",
       "      <td>7.8</td>\n",
       "      <td>0.88</td>\n",
       "      <td>0.00</td>\n",
       "      <td>2.6</td>\n",
       "      <td>0.098</td>\n",
       "      <td>25.0</td>\n",
       "      <td>67.0</td>\n",
       "      <td>0.9968</td>\n",
       "      <td>3.20</td>\n",
       "      <td>0.68</td>\n",
       "      <td>9.8</td>\n",
       "      <td>5</td>\n",
       "    </tr>\n",
       "    <tr>\n",
       "      <th>2</th>\n",
       "      <td>7.8</td>\n",
       "      <td>0.76</td>\n",
       "      <td>0.04</td>\n",
       "      <td>2.3</td>\n",
       "      <td>0.092</td>\n",
       "      <td>15.0</td>\n",
       "      <td>54.0</td>\n",
       "      <td>0.9970</td>\n",
       "      <td>3.26</td>\n",
       "      <td>0.65</td>\n",
       "      <td>9.8</td>\n",
       "      <td>5</td>\n",
       "    </tr>\n",
       "  </tbody>\n",
       "</table>\n",
       "</div>"
      ],
      "text/plain": [
       "   fixed_acidity  volatile_acidity  citric_acid  residual_sugar  chlorides  \\\n",
       "0            7.4              0.70         0.00             1.9      0.076   \n",
       "1            7.8              0.88         0.00             2.6      0.098   \n",
       "2            7.8              0.76         0.04             2.3      0.092   \n",
       "\n",
       "   free_sulfur_dioxide  total_sulfur_dioxide  density    pH  sulphates  \\\n",
       "0                 11.0                  34.0   0.9978  3.51       0.56   \n",
       "1                 25.0                  67.0   0.9968  3.20       0.68   \n",
       "2                 15.0                  54.0   0.9970  3.26       0.65   \n",
       "\n",
       "   alcohol  label  \n",
       "0      9.4      5  \n",
       "1      9.8      5  \n",
       "2      9.8      5  "
      ]
     },
     "execution_count": 3,
     "metadata": {},
     "output_type": "execute_result"
    }
   ],
   "source": [
    "df = pd.read_csv(\"winequality-red.csv\")\n",
    "df[\"label\"] = df.quality\n",
    "df = df.drop(\"quality\", axis=1)\n",
    "\n",
    "column_names = []\n",
    "for column in df.columns:\n",
    "    name = column.replace(\" \", \"_\")\n",
    "    column_names.append(name)\n",
    "df.columns = column_names\n",
    "\n",
    "df.head(3)"
   ]
  },
  {
   "cell_type": "code",
   "execution_count": 4,
   "metadata": {},
   "outputs": [
    {
     "data": {
      "text/plain": [
       "<matplotlib.axes._subplots.AxesSubplot at 0x27ca8c1b8b0>"
      ]
     },
     "execution_count": 4,
     "metadata": {},
     "output_type": "execute_result"
    },
    {
     "data": {
      "image/png": "[encoded data removed]",
      "text/plain": [
       "<Figure size 432x288 with 1 Axes>"
      ]
     },
     "metadata": {
      "needs_background": "light"
     },
     "output_type": "display_data"
    }
   ],
   "source": [
    "wine_quality = df.label.value_counts(normalize=True)\n",
    "wine_quality = wine_quality.sort_index()\n",
    "wine_quality.plot(kind=\"bar\")"
   ]
  },
  {
   "cell_type": "code",
   "execution_count": 5,
   "metadata": {},
   "outputs": [],
   "source": [
    "def transform_label(value):\n",
    "    if value <= 5:\n",
    "        return \"bad\"\n",
    "    else:\n",
    "        return \"good\"\n",
    "\n",
    "df[\"label\"] = df.label.apply(transform_label)\n"
   ]
  },
  {
   "cell_type": "code",
   "execution_count": 6,
   "metadata": {},
   "outputs": [
    {
     "data": {
      "text/plain": [
       "good    0.534709\n",
       "bad     0.465291\n",
       "Name: label, dtype: float64"
      ]
     },
     "execution_count": 6,
     "metadata": {},
     "output_type": "execute_result"
    },
    {
     "data": {
      "image/png": "[encoded data removed]",
      "text/plain": [
       "<Figure size 432x288 with 1 Axes>"
      ]
     },
     "metadata": {
      "needs_background": "light"
     },
     "output_type": "display_data"
    }
   ],
   "source": [
    "wine_quality = df.label.value_counts(normalize=True)\n",
    "wine_quality[[\"bad\", \"good\"]].plot(kind=\"bar\")\n",
    "wine_quality"
   ]
  },
  {
   "cell_type": "code",
   "execution_count": 7,
   "metadata": {},
   "outputs": [],
   "source": [
    "random.seed(0)\n",
    "train_df, test_df = train_test_split(df, test_size=0.2)\n"
   ]
  },
  {
   "cell_type": "markdown",
   "metadata": {},
   "source": [
    "<h3>Random Forest ( случ. лес)</h3> — это множество решающих деревьев. В задаче регрессии их ответы усредняются, в задаче классификации принимается решение голосованием по большинству. <b id=\"18\">Заниженный bias, усреднение помоагет понизить еще и variance.</b>\n",
    "\n",
    "$$\\text{BAGGING } + \\text{ RSM(Random subspace method) } + \\text{ Decision trees} = \\text{ Random Forest}$$\n",
    "\n",
    "Идея: вот у нас есть <b>BAGGING</b>, давайте добавим случайности в наши деревья еще больше, чтобы ошибки были еще больше нескоррелированы. Применяем RSM метод:  метод обучения ансамбля, который пытается уменьшить корреляцию между деревьями в ансамбле, обучая их на случайных выборках фичей вместо всего набора фичей.\n",
    "\n",
    "Основные параметры: \n",
    "\n",
    "<b>Число деревьев — n_estimators</b> \n",
    "\n",
    "Чем больше деревьев, тем лучше качество, но время настройки и работы RF также пропорционально увеличиваются. Часто при увеличении n_estimators качество на обучающей выборке повышается (может даже доходить до 100%), а качество на тесте выходит на асимптоту (можно прикинуть).\n",
    "\n",
    "<b>Максимальная глубина деревьев — max_depth</b> \n",
    "\n",
    "Чем меньше глубина, тем быстрее строится и работает RF. При увеличении глубины резко возрастает качество на обучении, но и на тесте оно, как правило, увеличивается. Рекомендуется использовать максимальную глубину (кроме случаев, когда оч много выбросов). \n",
    "\n",
    "<b>Число признаков для выбора расщепления — max_features</b>\n",
    "\n",
    "При увеличении max_features увеличивается время построения леса, а деревья становятся «более однообразными». По умолчанию он равен sqrt(n) в задачах классификации и n/3 в задачах регрессии. Это самый важный параметр! Его настраивают в первую очередь (при достаточном числе деревьев в лесе).\n",
    "\n",
    "<b>Минимальное число объектов, при котором выполняется расщепление  - min_samples_split</b>\n",
    "\n",
    "При увеличении параметра качество на обучении падает, а время построения RF сокращается.\n",
    "\n",
    "Для оценки можно использовать сам train - метод оценки OOB = out of back. (из-за того что выборки методом bootstrapa)"
   ]
  },
  {
   "cell_type": "code",
   "execution_count": 8,
   "metadata": {},
   "outputs": [],
   "source": [
    "# 1.генерируем бутстрапированные выборки\n",
    "def bootstraping(train_df, n_bootstrap):\n",
    "    # выбор с возвращением\n",
    "    bootstrap_indices = np.random.randint(low=0, high=len(train_df), size=n_bootstrap)\n",
    "    df_bootstraped = train_df.iloc[bootstrap_indices]\n",
    "    \n",
    "    return df_bootstraped"
   ]
  },
  {
   "cell_type": "code",
   "execution_count": 9,
   "metadata": {},
   "outputs": [
    {
     "data": {
      "text/html": [
       "<div>\n",
       "<style scoped>\n",
       "    .dataframe tbody tr th:only-of-type {\n",
       "        vertical-align: middle;\n",
       "    }\n",
       "\n",
       "    .dataframe tbody tr th {\n",
       "        vertical-align: top;\n",
       "    }\n",
       "\n",
       "    .dataframe thead th {\n",
       "        text-align: right;\n",
       "    }\n",
       "</style>\n",
       "<table border=\"1\" class=\"dataframe\">\n",
       "  <thead>\n",
       "    <tr style=\"text-align: right;\">\n",
       "      <th></th>\n",
       "      <th>fixed_acidity</th>\n",
       "      <th>volatile_acidity</th>\n",
       "      <th>citric_acid</th>\n",
       "      <th>residual_sugar</th>\n",
       "      <th>chlorides</th>\n",
       "      <th>free_sulfur_dioxide</th>\n",
       "      <th>total_sulfur_dioxide</th>\n",
       "      <th>density</th>\n",
       "      <th>pH</th>\n",
       "      <th>sulphates</th>\n",
       "      <th>alcohol</th>\n",
       "      <th>label</th>\n",
       "    </tr>\n",
       "  </thead>\n",
       "  <tbody>\n",
       "    <tr>\n",
       "      <th>1496</th>\n",
       "      <td>7.7</td>\n",
       "      <td>0.54</td>\n",
       "      <td>0.26</td>\n",
       "      <td>1.9</td>\n",
       "      <td>0.089</td>\n",
       "      <td>23.0</td>\n",
       "      <td>147.0</td>\n",
       "      <td>0.99636</td>\n",
       "      <td>3.26</td>\n",
       "      <td>0.59</td>\n",
       "      <td>9.7</td>\n",
       "      <td>bad</td>\n",
       "    </tr>\n",
       "    <tr>\n",
       "      <th>1303</th>\n",
       "      <td>8.0</td>\n",
       "      <td>0.28</td>\n",
       "      <td>0.44</td>\n",
       "      <td>1.8</td>\n",
       "      <td>0.081</td>\n",
       "      <td>28.0</td>\n",
       "      <td>68.0</td>\n",
       "      <td>0.99501</td>\n",
       "      <td>3.36</td>\n",
       "      <td>0.66</td>\n",
       "      <td>11.2</td>\n",
       "      <td>bad</td>\n",
       "    </tr>\n",
       "    <tr>\n",
       "      <th>11</th>\n",
       "      <td>7.5</td>\n",
       "      <td>0.50</td>\n",
       "      <td>0.36</td>\n",
       "      <td>6.1</td>\n",
       "      <td>0.071</td>\n",
       "      <td>17.0</td>\n",
       "      <td>102.0</td>\n",
       "      <td>0.99780</td>\n",
       "      <td>3.35</td>\n",
       "      <td>0.80</td>\n",
       "      <td>10.5</td>\n",
       "      <td>bad</td>\n",
       "    </tr>\n",
       "  </tbody>\n",
       "</table>\n",
       "</div>"
      ],
      "text/plain": [
       "      fixed_acidity  volatile_acidity  citric_acid  residual_sugar  chlorides  \\\n",
       "1496            7.7              0.54         0.26             1.9      0.089   \n",
       "1303            8.0              0.28         0.44             1.8      0.081   \n",
       "11              7.5              0.50         0.36             6.1      0.071   \n",
       "\n",
       "      free_sulfur_dioxide  total_sulfur_dioxide  density    pH  sulphates  \\\n",
       "1496                 23.0                 147.0  0.99636  3.26       0.59   \n",
       "1303                 28.0                  68.0  0.99501  3.36       0.66   \n",
       "11                   17.0                 102.0  0.99780  3.35       0.80   \n",
       "\n",
       "      alcohol label  \n",
       "1496      9.7   bad  \n",
       "1303     11.2   bad  \n",
       "11       10.5   bad  "
      ]
     },
     "execution_count": 9,
     "metadata": {},
     "output_type": "execute_result"
    }
   ],
   "source": [
    "bootstraping(train_df, 3)"
   ]
  },
  {
   "cell_type": "code",
   "execution_count": 10,
   "metadata": {},
   "outputs": [],
   "source": [
    "# 2. RSM - обучаем датасеты только на рандомном кол-ве фичей\n",
    "\n",
    "def get_potential_splits(data, random_subspace):\n",
    "    \n",
    "    potential_splits = {}\n",
    "    _, n_columns = data.shape\n",
    "    column_indices = list(range(n_columns - 1)) # все фичи минус лэйбл\n",
    "    \n",
    "    if random_subspace and random_subspace <= len(column_indices): \n",
    "        # Chooses k unique random elements from a population\n",
    "        column_indices = random.sample(population=column_indices, k=random_subspace)\n",
    "    \n",
    "    \n",
    "    for column_index in column_indices:  \n",
    "        values = data[:, column_index]\n",
    "        unique_values = np.unique(values)\n",
    "        \n",
    "        potential_splits[column_index] = unique_values\n",
    "    \n",
    "    return potential_splits"
   ]
  },
  {
   "cell_type": "code",
   "execution_count": 11,
   "metadata": {
    "scrolled": true
   },
   "outputs": [
    {
     "data": {
      "text/plain": [
       "{8: array([2.86, 2.87, 2.89, 2.9, 2.92, 2.93, 2.94, 2.95, 2.98, 2.99, 3.0,\n",
       "        3.01, 3.02, 3.03, 3.04, 3.05, 3.06, 3.07, 3.08, 3.09, 3.1, 3.11,\n",
       "        3.12, 3.13, 3.14, 3.15, 3.16, 3.17, 3.18, 3.19, 3.2, 3.21, 3.22,\n",
       "        3.23, 3.24, 3.25, 3.26, 3.27, 3.28, 3.29, 3.3, 3.31, 3.32, 3.33,\n",
       "        3.34, 3.35, 3.36, 3.37, 3.38, 3.39, 3.4, 3.41, 3.42, 3.43, 3.44,\n",
       "        3.45, 3.46, 3.47, 3.48, 3.49, 3.5, 3.51, 3.52, 3.53, 3.54, 3.55,\n",
       "        3.56, 3.57, 3.58, 3.59, 3.6, 3.61, 3.62, 3.63, 3.66, 3.67, 3.68,\n",
       "        3.69, 3.71, 3.72, 3.74, 3.75, 3.78, 3.9, 4.01], dtype=object),\n",
       " 5: array([1.0, 2.0, 3.0, 4.0, 5.0, 5.5, 6.0, 7.0, 8.0, 9.0, 10.0, 11.0, 12.0,\n",
       "        13.0, 14.0, 15.0, 16.0, 17.0, 18.0, 19.0, 20.0, 21.0, 22.0, 23.0,\n",
       "        24.0, 25.0, 26.0, 27.0, 28.0, 29.0, 30.0, 31.0, 32.0, 33.0, 34.0,\n",
       "        35.0, 36.0, 37.0, 37.5, 38.0, 39.0, 40.0, 40.5, 41.0, 42.0, 43.0,\n",
       "        45.0, 46.0, 47.0, 48.0, 50.0, 51.0, 52.0, 53.0, 54.0, 55.0, 66.0,\n",
       "        68.0, 72.0], dtype=object)}"
      ]
     },
     "execution_count": 11,
     "metadata": {},
     "output_type": "execute_result"
    }
   ],
   "source": [
    "get_potential_splits(train_df.values, random_subspace=2)"
   ]
  },
  {
   "cell_type": "code",
   "execution_count": 12,
   "metadata": {},
   "outputs": [],
   "source": [
    "# 3. RF algorithm\n",
    "def random_forest_algorithm(train_df, n_trees, n_bootstrap, n_features, dt_max_depth):\n",
    "    \"\"\"\n",
    "    ######################   PARAMETERS    ######################\n",
    "    \n",
    "    train_df: dataset\n",
    "    \n",
    "    n_trees: кол-во деревьев\n",
    "    \n",
    "    n_bootstrap: размер бутстрапированных датасетов\n",
    "    \n",
    "    n_features: на скольких фичах обучаем \n",
    "    \n",
    "    dt_max_depth: максимальная глубина деревьев\n",
    "    \n",
    "    #############################################################\n",
    "    \"\"\"\n",
    "    forest = [] \n",
    "    \n",
    "    for i in range(n_trees):\n",
    "        df_bootstrapped = bootstraping(train_df, n_bootstrap)\n",
    "        tree = decision_tree_algorithm(df_bootstrapped, max_depth=dt_max_depth, random_subspace=n_features)\n",
    "        forest.append(tree)\n",
    "    \n",
    "       \n",
    "    \n",
    "    return forest # list contains all of the trees"
   ]
  },
  {
   "cell_type": "code",
   "execution_count": 13,
   "metadata": {},
   "outputs": [],
   "source": [
    "forest = random_forest_algorithm(train_df, n_trees=4, n_bootstrap=800, n_features=4, dt_max_depth=4)"
   ]
  },
  {
   "cell_type": "code",
   "execution_count": 15,
   "metadata": {
    "scrolled": false
   },
   "outputs": [
    {
     "data": {
      "text/plain": [
       "4"
      ]
     },
     "execution_count": 15,
     "metadata": {},
     "output_type": "execute_result"
    }
   ],
   "source": [
    "len(forest)"
   ]
  },
  {
   "cell_type": "code",
   "execution_count": 28,
   "metadata": {
    "scrolled": false
   },
   "outputs": [],
   "source": [
    "# 4. predictions for RF\n",
    "\n",
    "def random_forest_predictions(test_df, forest):\n",
    "    df_predictions = {}\n",
    "\n",
    "    for i in range(len(forest)):\n",
    "        column_name = 'tree_{}'.format(i)\n",
    "        predictions = decision_tree_predictions(test_df, tree=forest[i])\n",
    "        df_predictions[column_name] = predictions\n",
    "\n",
    "    df_predictions = pd.DataFrame(df_predictions)\n",
    "    random_forest_predictions = df_predictions.mode(axis=1)[0]\n",
    "    \n",
    "    \n",
    "    return random_forest_predictions"
   ]
  },
  {
   "cell_type": "code",
   "execution_count": 29,
   "metadata": {},
   "outputs": [],
   "source": [
    "predictions = random_forest_predictions(test_df, forest)"
   ]
  },
  {
   "cell_type": "code",
   "execution_count": 30,
   "metadata": {},
   "outputs": [
    {
     "data": {
      "text/plain": [
       "0.73125"
      ]
     },
     "execution_count": 30,
     "metadata": {},
     "output_type": "execute_result"
    }
   ],
   "source": [
    "accuracy = calculate_accuracy(predictions, test_df.label)\n",
    "accuracy"
   ]
  },
  {
   "cell_type": "code",
   "execution_count": 32,
   "metadata": {},
   "outputs": [
    {
     "data": {
      "text/plain": [
       "0.728125"
      ]
     },
     "execution_count": 32,
     "metadata": {},
     "output_type": "execute_result"
    }
   ],
   "source": [
    "forest = random_forest_algorithm(train_df, n_trees=2, n_bootstrap=len(train_df), n_features=999, dt_max_depth=4)\n",
    "predictions = random_forest_predictions(test_df, forest)\n",
    "accuracy = calculate_accuracy(predictions, test_df.label)\n",
    "accuracy"
   ]
  },
  {
   "cell_type": "code",
   "execution_count": 35,
   "metadata": {},
   "outputs": [
    {
     "name": "stdout",
     "output_type": "stream",
     "text": [
      "0.75\n",
      "0.746875\n",
      "0.728125\n",
      "0.734375\n",
      "0.746875\n",
      "0.7625\n",
      "0.734375\n",
      "0.734375\n",
      "0.740625\n",
      "0.73125\n",
      "average accuracy: 0.7409375\n"
     ]
    }
   ],
   "source": [
    "accuracies = []\n",
    "for i in range(10):\n",
    "    forest = random_forest_algorithm(train_df, n_trees=4, n_bootstrap=800, n_features=4, dt_max_depth=4)\n",
    "    predictions = random_forest_predictions(test_df, forest)\n",
    "    accuracy = calculate_accuracy(predictions, test_df.label)\n",
    "    print(accuracy)\n",
    "    accuracies.append(accuracy)\n",
    "\n",
    "print('average accuracy: {}'.format(np.array(accuracies).mean()))"
   ]
  },
  {
   "cell_type": "code",
   "execution_count": 36,
   "metadata": {},
   "outputs": [
    {
     "name": "stdout",
     "output_type": "stream",
     "text": [
      "0.75\n",
      "0.6875\n",
      "0.73125\n",
      "0.715625\n",
      "0.725\n",
      "0.728125\n",
      "0.721875\n",
      "0.684375\n",
      "0.715625\n",
      "0.715625\n",
      "average accuracy: 0.7175\n"
     ]
    }
   ],
   "source": [
    "accuracies = []\n",
    "for i in range(10):\n",
    "    forest = random_forest_algorithm(train_df, n_trees=1, n_bootstrap=len(train_df), n_features=999, dt_max_depth=4)\n",
    "    predictions = random_forest_predictions(test_df, forest)\n",
    "    accuracy = calculate_accuracy(predictions, test_df.label)\n",
    "    print(accuracy)\n",
    "    accuracies.append(accuracy)\n",
    "\n",
    "print('average accuracy: {}'.format(np.array(accuracies).mean()))"
   ]
  },
  {
   "cell_type": "code",
   "execution_count": null,
   "metadata": {},
   "outputs": [],
   "source": []
  }
 ],
 "metadata": {
  "kernelspec": {
   "display_name": "Python 3",
   "language": "python",
   "name": "python3"
  },
  "language_info": {
   "codemirror_mode": {
    "name": "ipython",
    "version": 3
   },
   "file_extension": ".py",
   "mimetype": "text/x-python",
   "name": "python",
   "nbconvert_exporter": "python",
   "pygments_lexer": "ipython3",
   "version": "3.8.3"
  }
 },
 "nbformat": 4,
 "nbformat_minor": 4
}
